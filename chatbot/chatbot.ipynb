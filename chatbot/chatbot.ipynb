{
 "cells": [
  {
   "cell_type": "markdown",
   "metadata": {},
   "source": [
    "# Online store smart chat assistant\n",
    "## The group project in artificial intelligence\n",
    "### Kostiantyn Ostapenko, Olaf Gontarczyk"
   ]
  },
  {
   "cell_type": "markdown",
   "metadata": {},
   "source": [
    "```css\n",
    "Pre-installing section\n",
    "```"
   ]
  },
  {
   "cell_type": "code",
   "execution_count": 17,
   "metadata": {
    "scrolled": true
   },
   "outputs": [
    {
     "name": "stdout",
     "output_type": "stream",
     "text": [
      "Requirement already satisfied: numpy in c:\\users\\ostap\\anaconda3\\envs\\chatbot\\lib\\site-packages (1.18.1)\n",
      "Requirement already satisfied: nltk in c:\\users\\ostap\\anaconda3\\envs\\chatbot\\lib\\site-packages (3.4.5)\n",
      "Requirement already satisfied: six in c:\\users\\ostap\\anaconda3\\envs\\chatbot\\lib\\site-packages (from nltk) (1.14.0)\n",
      "Requirement already satisfied: tflearn in c:\\users\\ostap\\anaconda3\\envs\\chatbot\\lib\\site-packages (0.3.2)\n",
      "Requirement already satisfied: numpy in c:\\users\\ostap\\anaconda3\\envs\\chatbot\\lib\\site-packages (from tflearn) (1.18.1)\n",
      "Requirement already satisfied: six in c:\\users\\ostap\\anaconda3\\envs\\chatbot\\lib\\site-packages (from tflearn) (1.14.0)\n",
      "Requirement already satisfied: Pillow in c:\\users\\ostap\\anaconda3\\envs\\chatbot\\lib\\site-packages (from tflearn) (7.0.0)\n",
      "Requirement already satisfied: tensorflow==1.4 in c:\\users\\ostap\\anaconda3\\envs\\chatbot\\lib\\site-packages (1.4.0)\n",
      "Requirement already satisfied: enum34>=1.1.6 in c:\\users\\ostap\\anaconda3\\envs\\chatbot\\lib\\site-packages (from tensorflow==1.4) (1.1.9)\n",
      "Requirement already satisfied: protobuf>=3.3.0 in c:\\users\\ostap\\anaconda3\\envs\\chatbot\\lib\\site-packages (from tensorflow==1.4) (3.11.3)\n",
      "Requirement already satisfied: tensorflow-tensorboard<0.5.0,>=0.4.0rc1 in c:\\users\\ostap\\anaconda3\\envs\\chatbot\\lib\\site-packages (from tensorflow==1.4) (0.4.0)\n",
      "Requirement already satisfied: numpy>=1.12.1 in c:\\users\\ostap\\anaconda3\\envs\\chatbot\\lib\\site-packages (from tensorflow==1.4) (1.18.1)\n",
      "Requirement already satisfied: wheel>=0.26 in c:\\users\\ostap\\anaconda3\\envs\\chatbot\\lib\\site-packages (from tensorflow==1.4) (0.34.2)\n",
      "Requirement already satisfied: six>=1.10.0 in c:\\users\\ostap\\anaconda3\\envs\\chatbot\\lib\\site-packages (from tensorflow==1.4) (1.14.0)\n",
      "Requirement already satisfied: setuptools in c:\\users\\ostap\\anaconda3\\envs\\chatbot\\lib\\site-packages (from protobuf>=3.3.0->tensorflow==1.4) (45.2.0.post20200210)\n",
      "Requirement already satisfied: html5lib==0.9999999 in c:\\users\\ostap\\anaconda3\\envs\\chatbot\\lib\\site-packages (from tensorflow-tensorboard<0.5.0,>=0.4.0rc1->tensorflow==1.4) (0.9999999)\n",
      "Requirement already satisfied: bleach==1.5.0 in c:\\users\\ostap\\anaconda3\\envs\\chatbot\\lib\\site-packages (from tensorflow-tensorboard<0.5.0,>=0.4.0rc1->tensorflow==1.4) (1.5.0)\n",
      "Requirement already satisfied: markdown>=2.6.8 in c:\\users\\ostap\\anaconda3\\envs\\chatbot\\lib\\site-packages (from tensorflow-tensorboard<0.5.0,>=0.4.0rc1->tensorflow==1.4) (3.2.1)\n",
      "Requirement already satisfied: werkzeug>=0.11.10 in c:\\users\\ostap\\anaconda3\\envs\\chatbot\\lib\\site-packages (from tensorflow-tensorboard<0.5.0,>=0.4.0rc1->tensorflow==1.4) (1.0.0)\n"
     ]
    }
   ],
   "source": [
    "import sys\n",
    "!{sys.executable} -m pip install numpy\n",
    "!{sys.executable} -m pip install nltk\n",
    "!{sys.executable} -m pip install tflearn\n",
    "!{sys.executable} -m pip install tensorflow==1.4"
   ]
  },
  {
   "cell_type": "markdown",
   "metadata": {},
   "source": [
    "```python\n",
    "Section of standard packages import\n",
    "```"
   ]
  },
  {
   "cell_type": "code",
   "execution_count": 23,
   "metadata": {
    "scrolled": true
   },
   "outputs": [],
   "source": [
    "import nltk\n",
    "from nltk.stem.lancaster import LancasterStemmer\n",
    "stemmer = LancasterStemmer()\n",
    "import numpy as np\n",
    "import tflearn as tf\n",
    "import tensorflow as tnf\n",
    "import random\n",
    "import json\n",
    "import pickle"
   ]
  },
  {
   "cell_type": "markdown",
   "metadata": {},
   "source": [
    "```python\n",
    "Section model generation for the seed of the data\n",
    "```"
   ]
  },
  {
   "cell_type": "code",
   "execution_count": 24,
   "metadata": {
    "scrolled": false
   },
   "outputs": [
    {
     "name": "stdout",
     "output_type": "stream",
     "text": [
      "Training Step: 3999  | total loss: \u001b[1m\u001b[32m0.05580\u001b[0m\u001b[0m | time: 0.003s\n",
      "| Adam | epoch: 1000 | loss: 0.05580 - acc: 0.9987 -- iter: 24/26\n",
      "Training Step: 4000  | total loss: \u001b[1m\u001b[32m0.05453\u001b[0m\u001b[0m | time: 0.004s\n",
      "| Adam | epoch: 1000 | loss: 0.05453 - acc: 0.9988 -- iter: 26/26\n",
      "--\n",
      "INFO:tensorflow:C:\\Users\\ostap\\chatbot\\model.tflearn is not in all_model_checkpoint_paths. Manually adding it.\n"
     ]
    }
   ],
   "source": [
    "with open(\"intents.json\") as file:\n",
    "    data = json.load(file)\n",
    "    \n",
    "words = []\n",
    "labels = []\n",
    "docs_x = []\n",
    "docs_y = []\n",
    "\n",
    "for intent in data[\"intents\"]:\n",
    "    for pattern in intent[\"patterns\"]:\n",
    "        wrds = nltk.word_tokenize(pattern)\n",
    "        words.extend(wrds)\n",
    "        docs_x.append(wrds)\n",
    "        docs_y.append(intent[\"tag\"])\n",
    "        \n",
    "    if intent[\"tag\"] not in labels:\n",
    "        labels.append(intent[\"tag\"])\n",
    "        \n",
    "words = [stemmer.stem(w.lower()) for w in words if w != \"?\"]\n",
    "words = sorted(list(set(words)))\n",
    "\n",
    "labels = sorted(labels)\n",
    "\n",
    "training = []\n",
    "output = []\n",
    "\n",
    "out_empty = [0 for _ in range(len(labels))]\n",
    "\n",
    "for x, doc in enumerate(docs_x):\n",
    "    bag = []\n",
    "    \n",
    "    wrds = [stemmer.stem(w) for w in doc]\n",
    "    \n",
    "    for w in words:\n",
    "        if w in wrds:\n",
    "            bag.append(1)\n",
    "        else:\n",
    "            bag.append(0)\n",
    "            \n",
    "    output_row = out_empty[:]\n",
    "    output_row[labels.index(docs_y[x])] = 1\n",
    "    \n",
    "    training.append(bag)\n",
    "    output.append(output_row)\n",
    "    \n",
    "training = np.array(training)\n",
    "output = np.array(output)\n",
    "\n",
    "tnf.reset_default_graph()\n",
    "\n",
    "net = tf.input_data(shape=[None, len(training[0])])\n",
    "net = tf.fully_connected(net, 8)\n",
    "net = tf.fully_connected(net, 8)\n",
    "net = tf.fully_connected(net, len(output[0]), activation=\"softmax\")\n",
    "net = tf.regression(net)\n",
    "\n",
    "model = tf.DNN(net)\n",
    "\n",
    "model.fit(training, output, n_epoch=1000, batch_size=8, show_metric=True)\n",
    "model.save(\"model.tflearn\")"
   ]
  },
  {
   "cell_type": "markdown",
   "metadata": {},
   "source": [
    "```python\n",
    "Prediction method. Going through given phrase compare it with the keywords\n",
    "```"
   ]
  },
  {
   "cell_type": "code",
   "execution_count": 25,
   "metadata": {},
   "outputs": [],
   "source": [
    "def bag_of_words(s, words):\n",
    "    bag = [0 for _ in range(len(words))]\n",
    "    \n",
    "    s_words = nltk.word_tokenize(s)\n",
    "    s_words = [stemmer.stem(word.lower()) for word in s_words]\n",
    "    \n",
    "    for se in s_words:\n",
    "        for i, w in enumerate(words):\n",
    "            if w == se:\n",
    "                bag[i] = 1\n",
    "                \n",
    "    return np.array(bag)"
   ]
  },
  {
   "cell_type": "markdown",
   "metadata": {},
   "source": [
    "```python\n",
    "Communication method. Waiting for the user input. Depend on the model prediction give an answer.\n",
    "```"
   ]
  },
  {
   "cell_type": "code",
   "execution_count": 26,
   "metadata": {},
   "outputs": [],
   "source": [
    "def chat():\n",
    "    print(\"Start talking with a bot (type quit to stop).\")\n",
    "    while True:\n",
    "        inp = input(\"You: \")\n",
    "        if inp.lower() == \"quit\":\n",
    "            break\n",
    "            \n",
    "        results = model.predict([bag_of_words(inp, words)])\n",
    "        results_index = np.argmax(results)\n",
    "        tag = labels[results_index]\n",
    "        \n",
    "        for tg in data[\"intents\"]:\n",
    "            if tg[\"tag\"] == tag:\n",
    "                responses = tg[\"responses\"]\n",
    "                \n",
    "        print(random.choice(responses))"
   ]
  },
  {
   "cell_type": "markdown",
   "metadata": {},
   "source": [
    "1. question exaples:  \n",
    "    * hello  \n",
    "    * how are you  \n",
    "    * could i get something to eat  \n",
    "    * hours of operation  \n",
    "    * how old are you  \n",
    "    * cya  \n",
    "2. quit for the end conversation  "
   ]
  },
  {
   "cell_type": "code",
   "execution_count": 27,
   "metadata": {},
   "outputs": [
    {
     "name": "stdout",
     "output_type": "stream",
     "text": [
      "Start talking with a bot (type quit to stop).\n",
      "You: hello\n",
      "Hi there, how can I help?\n",
      "You: how old are you\n",
      "I am 25 years old!\n",
      "You: could i get something to eat\n",
      "We sell chocolate chip cookies for $2!\n",
      "You: hours of operation\n",
      "We are open 7am-4pm Monday-Friday!\n",
      "You: how old are you\n",
      "25 years young!\n",
      "You: could i get something to eat\n",
      "We sell chocolate chip cookies for $2!\n",
      "You: could i get something to eat\n",
      "Cookies are on the menu!\n",
      "You: how old are you\n",
      "25 years young!\n",
      "You: how old are you\n",
      "I am 25 years old!\n",
      "You: cya\n",
      "Talk to you later\n",
      "You: quit\n"
     ]
    }
   ],
   "source": [
    "chat()"
   ]
  }
 ],
 "metadata": {
  "kernelspec": {
   "display_name": "Python 3",
   "language": "python",
   "name": "python3"
  },
  "language_info": {
   "codemirror_mode": {
    "name": "ipython",
    "version": 3
   },
   "file_extension": ".py",
   "mimetype": "text/x-python",
   "name": "python",
   "nbconvert_exporter": "python",
   "pygments_lexer": "ipython3",
   "version": "3.6.10"
  }
 },
 "nbformat": 4,
 "nbformat_minor": 4
}
